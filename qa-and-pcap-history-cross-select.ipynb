{
  "cells": [
    {
      "cell_type": "markdown",
      "metadata": {},
      "source": [
        "# Workbench API QA Example Sheet\n",
        "\n",
        "This Jupyter notebook shows how to programatically connect to the QA data set using our APIs.\n",
        "\n",
        "QA's data is indexed inside the same lake as our PCAP - Tick History Parquet data, and this notebook will also demonstrate that."
      ]
    },
    {
      "cell_type": "code",
      "execution_count": null,
      "metadata": {},
      "outputs": [],
      "source": [
        "# You must choose a particular feed and date to use for the queries in this notebook. \n",
        "# If you need a list of feeds, go to Help Menu -> \"View Feed Data Permissions\"\n",
        "\n",
        "# An example is:\n",
        "feed = 'bats_edga_a'\n",
        "dt = '2023-06-07'\n",
        "\n"
      ]
    },
    {
      "cell_type": "code",
      "execution_count": null,
      "metadata": {},
      "outputs": [],
      "source": [
        "#\n",
        "# This example shows selecting information the QA source.\n",
        "#\n",
        " \n",
        "from maystreet_data.api_client import ApiClient\n",
        "\n",
        "query = \"\"\"\n",
        "SELECT\n",
        "    *\n",
        "FROM\n",
        "    treactchg\n",
        "WHERE\n",
        "    activationdate >= TIMESTAMP '2022-01-01 00:00:00'\n",
        "\"\"\"\n",
        "\n",
        "with ApiClient() as client:\n",
        "    df = client.qa.exec(sql=query, return_type=\"df\")\n",
        "\n",
        "df.head()"
      ]
    },
    {
      "cell_type": "code",
      "execution_count": null,
      "metadata": {},
      "outputs": [],
      "source": [
        "#\n",
        "# This example shows selecting information from both our PCAP - Tick History source and our QA source.\n",
        "#\n",
        "\n",
        "from maystreet_data.api_client import ApiClient\n",
        "\n",
        "query = \"\"\"\n",
        "SELECT\n",
        "    avg_aapl_price.dt,\n",
        "    avg_aapl_price.price,\n",
        "    treactchg.estpermid,\n",
        "    treactchg.actgrowth\n",
        "FROM \n",
        "    treactchg\n",
        "        JOIN\n",
        "    (\n",
        "        SELECT \n",
        "            dt,\n",
        "            AVG(price) AS price \n",
        "        FROM\n",
        "            mt_trade \n",
        "        WHERE \n",
        "            f = '{feed}' \n",
        "            AND product = 'AAPL' \n",
        "            AND dt = '{dt}'\n",
        "        GROUP BY\n",
        "            dt\n",
        "    ) AS avg_aapl_price ON CAST(CAST(activationdate AS DATE) AS VARCHAR) = avg_aapl_price.dt \n",
        "\"\"\"\n",
        "\n",
        "with ApiClient() as client:\n",
        "    df = client.foundation.exec(sql=query, return_type=\"df\")\n",
        "\n",
        "df.head()"
      ]
    }
  ],
  "metadata": {
    "com.lseg.llg.wb.description": "Provides examples of connectivity with the QAC source and cross-querying with PCAP - Tick History data.",
    "com.lseg.llg.wb.name": "QAC and PCAP - Tick History Integration",
    "com.lseg.llg.wb.tags": [
      "python",
      "datalake",
      "data-lake",
      "qac",
      "qa",
      "pcap"
    ],
    "kernelspec": {
      "display_name": ".virtualenv",
      "language": "python",
      "name": "python3"
    },
    "language_info": {
      "codemirror_mode": {
        "name": "ipython",
        "version": 3
      },
      "file_extension": ".py",
      "mimetype": "text/x-python",
      "name": "python",
      "nbconvert_exporter": "python",
      "pygments_lexer": "ipython3",
      "version": "3.11.8"
    }
  },
  "nbformat": 4,
  "nbformat_minor": 2
}
