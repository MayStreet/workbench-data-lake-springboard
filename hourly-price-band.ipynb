{
 "cells": [
  {
   "cell_type": "markdown",
   "metadata": {},
   "source": [
    "This is a sample notebook, showing how you can create charts from Data Lake queries.\n",
    "\n",
    "It creates a chart of the min and max prices of AAPL trades for each hour on a given day."
   ]
  },
  {
   "cell_type": "code",
   "execution_count": null,
   "metadata": {},
   "outputs": [],
   "source": [
    "import datetime\n",
    "\n",
    "import pandas as pd\n",
    "import maystreet_data as md\n",
    "\n",
    "\n",
    "def fetch_min_max():\n",
    "    \"\"\"\n",
    "    Query the Data Lake for min/max prices grouped by hour of the day.\n",
    "\n",
    "    Returns a Pandas dataframe with timestamp (as a Python datetime), min_price and max_price.\n",
    "    \"\"\"\n",
    "\n",
    "    query = \"\"\"\n",
    "    SELECT \n",
    "        DATE_TRUNC('hour', TO_TIMESTAMP(ExchangeTimestamp / 1000000000)) AS hour_ts,\n",
    "        MIN(price) as min_price,\n",
    "        MAX(price) as max_price\n",
    "    FROM \n",
    "        \"prod_lake\".\"p_mst_data_lake\".mt_trade\n",
    "    WHERE \n",
    "        dt = '2022-01-19'\n",
    "        AND product = 'AAPL'\n",
    "    GROUP BY 1\n",
    "    ORDER BY 1\n",
    "    \"\"\"\n",
    "\n",
    "    data = pd.DataFrame(md.query(md.DataSource.DATA_LAKE, query))\n",
    "    data[\"timestamp\"] = [\n",
    "        datetime.datetime.fromtimestamp(x / 1000) for x in data[\"hour_ts\"]\n",
    "    ]\n",
    "\n",
    "    return data\n",
    "\n",
    "\n",
    "min_max_data = fetch_min_max()\n"
   ]
  },
  {
   "cell_type": "code",
   "execution_count": null,
   "metadata": {},
   "outputs": [],
   "source": [
    "import datetime\n",
    "\n",
    "import matplotlib.pyplot as plt\n",
    "import matplotlib.dates as mdates\n",
    "\n",
    "\n",
    "# Here we plot the data fetched in the previous cell.\n",
    "# This is standard matplotlib.\n",
    "\n",
    "plt.rcParams[\"figure.figsize\"] = [10, 5]\n",
    "\n",
    "fig, ax = plt.subplots()\n",
    "\n",
    "# Explicitly set background color: when using a Dark theme dark text is not very readable\n",
    "fig.patch.set_facecolor((1, 1, 1))\n",
    "\n",
    "ax.grid(True)\n",
    "\n",
    "ax.set_title(\"AAPL min/max price per hour, 2022/01/19\")\n",
    "ax.set_ylabel(\"Price\")\n",
    "ax.set_xlabel(\"Hour\")\n",
    "\n",
    "ax.set_ylim(min_max_data[\"min_price\"].min() - 1, min_max_data[\"max_price\"].max() + 1)\n",
    "\n",
    "ax.xaxis.set_major_formatter(mdates.DateFormatter(\"%H\"))\n",
    "\n",
    "ax.bar(\n",
    "    x=min_max_data[\"timestamp\"],\n",
    "    height=min_max_data[\"max_price\"] - min_max_data[\"min_price\"],\n",
    "    bottom=min_max_data[\"min_price\"],\n",
    "    width=0.01,\n",
    "    zorder=2,\n",
    ")\n",
    "\n",
    "plt.show()\n"
   ]
  }
 ],
 "metadata": {
  "kernelspec": {
   "display_name": "Python 3.9.13 64-bit",
   "language": "python",
   "name": "python3"
  },
  "language_info": {
   "codemirror_mode": {
    "name": "ipython",
    "version": 3
   },
   "file_extension": ".py",
   "mimetype": "text/x-python",
   "name": "python",
   "nbconvert_exporter": "python",
   "pygments_lexer": "ipython3",
   "version": "3.9.13"
  },
  "orig_nbformat": 4,
  "vscode": {
   "interpreter": {
    "hash": "aee8b7b246df8f9039afb4144a1f6fd8d2ca17a180786b69acc140d282b71a49"
   }
  }
 },
 "nbformat": 4,
 "nbformat_minor": 2
}
