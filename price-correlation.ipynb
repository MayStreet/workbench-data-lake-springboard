{
  "cells": [
    {
      "cell_type": "markdown",
      "metadata": {},
      "source": [
        "This sample notebook shows how to analyse data fetched from the Data Lake.\n",
        "\n",
        "It shows the correlation of the average price per minute between TSLA and AAPL in a given day."
      ]
    },
    {
      "cell_type": "code",
      "execution_count": null,
      "metadata": {},
      "outputs": [],
      "source": [
        "# You must choose a particular feed and date to use for the queries in this notebook. \n",
        "# If you need a list of feeds, go to Help Menu -> \"View Feed Data Permissions\"\n",
        "\n",
        "# An example is:\n",
        "feed = 'xdp_nyse_integrated'\n",
        "dt = '2025-02-06'\n",
        "products = ['AAPL', 'TSLA']"
      ]
    },
    {
      "cell_type": "code",
      "execution_count": null,
      "metadata": {},
      "outputs": [],
      "source": [
        "import pandas as pd\n",
        "import maystreet_data as md\n",
        "\n",
        "\n",
        "def avg_price_per_minute():\n",
        "    \"\"\"\n",
        "    Query the Data Lake for the average price per minute.\n",
        "\n",
        "    Returns a Pandas dataframe with minute_timestamp, avg_aapl_price and avg_tsla_price.\n",
        "    \"\"\"\n",
        "\n",
        "    query = f\"\"\"\n",
        "    SELECT \n",
        "        DATE_TRUNC('minute', FROM_UNIXTIME(ExchangeTimestamp / 1000000000)) AS minute_timestamp,\n",
        "        AVG(CASE WHEN product = '{products[0]}' THEN price ELSE NULL END) as avg_{products[0]}_price,\n",
        "        AVG(CASE WHEN product = '{products[1]}' THEN price ELSE NULL END) as avg_{products[1]}_price        \n",
        "    FROM \n",
        "        \"prod_lake\".\"p_mst_data_lake\".mt_trade\n",
        "    WHERE \n",
        "        dt = '{dt}'\n",
        "        AND f = '{feed}'\n",
        "        AND product IN ({', '.join([f\"'{p}'\" for p in products])})\n",
        "    GROUP BY 1\n",
        "    ORDER BY 1\n",
        "    \"\"\"\n",
        "\n",
        "    return pd.DataFrame(md.query(md.DataSource.DATA_LAKE, query))\n",
        "\n",
        "\n",
        "# forward-fill, then backfill in case there was no trade in a given minute\n",
        "prices = avg_price_per_minute().fillna(method=\"ffill\").fillna(method=\"bfill\")\n"
      ]
    },
    {
      "cell_type": "code",
      "execution_count": null,
      "metadata": {},
      "outputs": [],
      "source": [
        "import numpy as np\n",
        "\n",
        "\n",
        "# Correlation matrix\n",
        "\n",
        "np.corrcoef(prices[f\"avg_{products[0]}_price\"], prices[f\"avg_{products[1]}_price\"])\n"
      ]
    },
    {
      "cell_type": "code",
      "execution_count": null,
      "metadata": {},
      "outputs": [],
      "source": [
        "import matplotlib.pyplot as plt\n",
        "\n",
        "\n",
        "# Chart the avg prices\n",
        "\n",
        "plt.rcParams[\"figure.figsize\"] = [10, 10]\n",
        "\n",
        "fig, ax = plt.subplots()\n",
        "\n",
        "fig.patch.set_facecolor((1, 1, 1))\n",
        "\n",
        "ax.set_xlabel(f\"Avg {products[0]} price\")\n",
        "ax.set_ylabel(f\"Avg {products[1]} price\")\n",
        "\n",
        "ax.plot(prices[f\"avg_{products[0]}_price\"], prices[f\"avg_{products[1]}_price\"], linewidth=0, marker=\"s\")\n",
        "\n",
        "plt.show()\n"
      ]
    }
  ],
  "metadata": {
    "com.lseg.llg.wb.description": "This notebook shows the correlation of the average price per minute between TSLA and AAPL in a given day.",
    "com.lseg.llg.wb.name": "Price Correlation Example",
    "com.lseg.llg.wb.tags": [
      "python",
      "correlation",
      "average"
    ],
    "kernelspec": {
      "display_name": "Python 3.9.13 64-bit",
      "language": "python",
      "name": "python3"
    },
    "language_info": {
      "codemirror_mode": {
        "name": "ipython",
        "version": 3
      },
      "file_extension": ".py",
      "mimetype": "text/x-python",
      "name": "python",
      "nbconvert_exporter": "python",
      "pygments_lexer": "ipython3",
      "version": "3.11.8"
    },
    "orig_nbformat": 4,
    "vscode": {
      "interpreter": {
        "hash": "aee8b7b246df8f9039afb4144a1f6fd8d2ca17a180786b69acc140d282b71a49"
      }
    }
  },
  "nbformat": 4,
  "nbformat_minor": 2
}
