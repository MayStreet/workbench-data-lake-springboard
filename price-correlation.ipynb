{
 "cells": [
  {
   "cell_type": "markdown",
   "metadata": {},
   "source": [
    "This sample notebook shows how to analyse data fetched from the Data Lake.\n",
    "\n",
    "It shows the correlation of the average price per minute between TSLA and AAPL in a given day."
   ]
  },
  {
   "cell_type": "code",
   "execution_count": null,
   "metadata": {},
   "outputs": [],
   "source": [
    "import pandas as pd\n",
    "import matplotlib.pyplot as plt\n",
    "import maystreet_data as md\n",
    "import numpy as np\n",
    "\n",
    "year, month, day = '2022', '01', '19'"
   ]
  },
  {
   "cell_type": "code",
   "execution_count": null,
   "metadata": {},
   "outputs": [],
   "source": [
    "def avg_price_per_minute():\n",
    "    \"\"\"\n",
    "    Query the Data Lake for the average price per minute.\n",
    "\n",
    "    Returns a Pandas dataframe with minute_timestamp, avg_aapl_price and avg_tsla_price.\n",
    "    \"\"\"\n",
    "\n",
    "    query = f\"\"\"\n",
    "    SELECT \n",
    "        DATE_TRUNC('minute', TO_TIMESTAMP(ExchangeTimestamp / 1000000000)) AS minute_timestamp,\n",
    "        AVG(CASE WHEN product = 'AAPL' THEN price ELSE NULL END) as avg_aapl_price,\n",
    "        AVG(CASE WHEN product = 'TSLA' THEN price ELSE NULL END) as avg_tsla_price        \n",
    "    FROM \n",
    "        \"prod_lake\".\"p_mst_data_lake\".mt_trade\n",
    "    WHERE \n",
    "        y = '{year}'\n",
    "        AND m = '{month}'\n",
    "        AND d = '{day}'\n",
    "        AND product IN ('AAPL', 'TSLA')\n",
    "    GROUP BY 1\n",
    "    ORDER BY 1\n",
    "    \"\"\"\n",
    "\n",
    "    return pd.DataFrame(md.query(md.DataSource.DATA_LAKE, query))\n",
    "\n",
    "# forward-fill, then backfill in case there was no trade in a given minute\n",
    "prices = avg_price_per_minute().fillna(method='ffill').fillna(method='bfill')"
   ]
  },
  {
   "cell_type": "code",
   "execution_count": null,
   "metadata": {},
   "outputs": [],
   "source": [
    "# Correlation matrix\n",
    "\n",
    "np.corrcoef(prices['avg_aapl_price'], prices['avg_tsla_price'])"
   ]
  },
  {
   "cell_type": "code",
   "execution_count": null,
   "metadata": {},
   "outputs": [],
   "source": [
    "# Chart the avg prices\n",
    "\n",
    "plt.rcParams['figure.figsize'] = [10, 10]\n",
    "\n",
    "fig, ax = plt.subplots()\n",
    "\n",
    "fig.patch.set_facecolor((1, 1, 1))\n",
    "\n",
    "ax.set_xlabel('Avg AAPL price')\n",
    "ax.set_ylabel('Avg TSLA price')\n",
    "\n",
    "ax.plot(prices['avg_aapl_price'], prices['avg_tsla_price'], linewidth=0, marker='s')\n",
    "\n",
    "plt.show()\n"
   ]
  }
 ],
 "metadata": {
  "interpreter": {
   "hash": "0ea2b8895e81fdf91d242a88ba5aeb28630840827d8cbcc101eed9e19ad7d7de"
  },
  "kernelspec": {
   "display_name": "Python 3.8.10 64-bit ('.virtualenv': venv)",
   "language": "python",
   "name": "python3"
  },
  "language_info": {
   "codemirror_mode": {
    "name": "ipython",
    "version": 3
   },
   "file_extension": ".py",
   "mimetype": "text/x-python",
   "name": "python",
   "nbconvert_exporter": "python",
   "pygments_lexer": "ipython3",
   "version": "3.8.10"
  },
  "orig_nbformat": 4
 },
 "nbformat": 4,
 "nbformat_minor": 2
}
