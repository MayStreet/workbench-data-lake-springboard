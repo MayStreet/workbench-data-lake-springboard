{
  "cells": [
    {
      "cell_type": "code",
      "execution_count": null,
      "metadata": {},
      "outputs": [],
      "source": [
        "# You must choose a date and product to use for the queries in this notebook. \n",
        "\n",
        "\n",
        "# An example is:\n",
        "dt = '2023-05-25'\n",
        "product = 'AAPL'\n"
      ]
    },
    {
      "cell_type": "code",
      "execution_count": null,
      "metadata": {},
      "outputs": [],
      "source": [
        "# Import the MayStreet Data Python library - this is already provided for you inside Workbench.\n",
        "import maystreet_data\n",
        "# Import the well known Python Pandas library (https://pandas.pydata.org)\n",
        "import pandas as pd\n",
        "\n",
        "# retrieve a subset of news items for a specific day\n",
        "records_iter = maystreet_data.query(\n",
        "    maystreet_data.DataSource.DATA_LAKE,\n",
        "    f\"\"\"\n",
        "    SELECT\n",
        "        dt, guid, timestamps[1], data.headline, data.body, data.subjects\n",
        "    FROM \n",
        "        \"prod_lake.p_mst_data_lake\".mt_news\n",
        "    WHERE \n",
        "        dt='{dt}'\n",
        "    LIMIT 10\n",
        "\"\"\",\n",
        ")\n",
        "\n",
        "# Create a Pandas Data Frame from the iterator; an iterator will return one row at a time but we'd like\n",
        "# to see them all.\n",
        "data = pd.DataFrame(records_iter)\n",
        "\n",
        "# Display the data in the Jupyter output cell.\n",
        "data\n"
      ]
    },
    {
      "cell_type": "code",
      "execution_count": null,
      "metadata": {},
      "outputs": [],
      "source": [
        "# Import the MayStreet Data Python library - this is already provided for you inside Workbench.\n",
        "import maystreet_data\n",
        "# Import the well known Python Pandas library (https://pandas.pydata.org)\n",
        "import pandas as pd\n",
        "\n",
        "# retrieve a mapping of RIC codes for a given ticker\n",
        "records_iter = maystreet_data.query(\n",
        "    maystreet_data.DataSource.DATA_LAKE,\n",
        "    f\"\"\"\n",
        "    SELECT\n",
        "        *\n",
        "    FROM \n",
        "        \"prod_lake.p_mst_data_lake\".mt_pid_to_ticker\n",
        "    WHERE \n",
        "        dt='{dt}' AND ticker='{product}'\n",
        "    LIMIT 10\n",
        "\"\"\",\n",
        ")\n",
        "\n",
        "# Create a Pandas Data Frame from the iterator; an iterator will return one row at a time but we'd like\n",
        "# to see them all.\n",
        "data = pd.DataFrame(records_iter)\n",
        "\n",
        "# Display the data in the Jupyter output cell.\n",
        "data"
      ]
    },
    {
      "cell_type": "code",
      "execution_count": null,
      "metadata": {},
      "outputs": [],
      "source": [
        "# Import the MayStreet Data Python library - this is already provided for you inside Workbench.\n",
        "import maystreet_data\n",
        "# Import the well known Python Pandas library (https://pandas.pydata.org)\n",
        "import pandas as pd\n",
        "\n",
        "# Given a ticker (ex: 'COIN') find all the news items that have a related subject.\n",
        "# For efficiency purposes, this query is limited by date.\n",
        "records_iter = maystreet_data.query(\n",
        "    maystreet_data.DataSource.DATA_LAKE,\n",
        "    f\"\"\"\n",
        "with cross_join_subjects as (\n",
        "    SELECT guid, \n",
        "    subject\n",
        "    FROM mt_news\n",
        "    CROSS JOIN UNNEST(data.subjects) AS t(subject)\n",
        "    WHERE dt = '{dt}'\n",
        "),\n",
        "pids_from_news as (\n",
        "    SELECT guid, \n",
        "    regexp_replace(subject, '(^P:)(.*)', '$2') AS pid,\n",
        "    subject\n",
        "    FROM cross_join_subjects\n",
        "    WHERE regexp_like(subject, '^P:*')\n",
        "),\n",
        "rics_from_news as (\n",
        "    SELECT guid, \n",
        "    regexp_replace(subject, '(^R:)(.*)', '$2') AS ric, \n",
        "    subject\n",
        "    FROM cross_join_subjects\n",
        "    WHERE regexp_like(subject, '^R:*')\n",
        "),\n",
        "mapping_join as (\n",
        "    SELECT DISTINCT ticker, ric, CAST(mt_pid_to_ticker.permid AS VARCHAR) AS string_pid\n",
        "    FROM p_mst_data_lake.mt_pid_to_ticker \n",
        "    JOIN p_mst_data_lake.mt_pid_to_ric \n",
        "    ON p_mst_data_lake.mt_pid_to_ticker.permid = p_mst_data_lake.mt_pid_to_ric.permid \n",
        "    WHERE p_mst_data_lake.mt_pid_to_ticker.dt='{dt}' AND p_mst_data_lake.mt_pid_to_ric.dt = '{dt}'\n",
        "),\n",
        "relation_of_pids_and_rics as (\n",
        "    SELECT DISTINCT ric, string_pid AS pid, ticker\n",
        "    FROM mapping_join\n",
        "    WHERE ticker = '{product}'\n",
        "),\n",
        "ric_guids_we_want as (\n",
        "    SELECT DISTINCT guid FROM relation_of_pids_and_rics \n",
        "    JOIN rics_from_news ON rics_from_news.ric = relation_of_pids_and_rics.ric\n",
        "),\n",
        "pid_guids_we_want as (\n",
        "    SELECT DISTINCT guid FROM relation_of_pids_and_rics \n",
        "    JOIN pids_from_news ON pids_from_news.pid = relation_of_pids_and_rics.pid\n",
        "),\n",
        "guids_we_want as (\n",
        "    SELECT * FROM pid_guids_we_want UNION SELECT * FROM ric_guids_we_want LIMIT 5\n",
        ")\n",
        "SELECT data.body FROM guids_we_want JOIN mt_news ON guids_we_want.guid = mt_news.guid\n",
        "\"\"\",\n",
        ")\n",
        "\n",
        "# Create a Pandas Data Frame from the iterator; an iterator will return one row at a time but we'd like\n",
        "# to see them all.\n",
        "data = pd.DataFrame(records_iter)\n",
        "\n",
        "# Display the data in the Jupyter output cell.\n",
        "data"
      ]
    },
    {
      "cell_type": "code",
      "execution_count": null,
      "metadata": {},
      "outputs": [],
      "source": [
        "data\n"
      ]
    }
  ],
  "metadata": {
    "com.lseg.llg.wb.description": "Provides an example of retrieving Machine Readable News from the Data Lake.",
    "com.lseg.llg.wb.name": "News Data Example",
    "com.lseg.llg.wb.tags": [
      "python",
      "news",
      "mrn"
    ],
    "kernelspec": {
      "display_name": "Python 3.9.13 64-bit",
      "language": "python",
      "name": "python3"
    },
    "language_info": {
      "codemirror_mode": {
        "name": "ipython",
        "version": 3
      },
      "file_extension": ".py",
      "mimetype": "text/x-python",
      "name": "python",
      "nbconvert_exporter": "python",
      "pygments_lexer": "ipython3",
      "version": "3.11.8"
    },
    "orig_nbformat": 4,
    "vscode": {
      "interpreter": {
        "hash": "aee8b7b246df8f9039afb4144a1f6fd8d2ca17a180786b69acc140d282b71a49"
      }
    }
  },
  "nbformat": 4,
  "nbformat_minor": 2
}
