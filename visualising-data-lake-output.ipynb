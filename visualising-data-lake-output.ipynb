{
 "cells": [
  {
   "cell_type": "code",
   "execution_count": null,
   "metadata": {},
   "outputs": [],
   "source": [
    "import maystreet_data\n",
    "\n",
    "\n",
    "# Obtain the total number of traders for AAPL per venue for the 07-January-2022. You may\n",
    "# alter the year, month and day values below to retrieve data, but please note the results may be different\n",
    "# or absent if you are not entitled to access the feeds.\n",
    "records_iter = maystreet_data.query(\n",
    "    maystreet_data.DataSource.DATA_LAKE,\n",
    "    \"\"\"\n",
    "    SELECT\n",
    "        f,\n",
    "        COUNT(*) AS \"cnt\"\n",
    "    FROM\n",
    "        \"prod_lake.p_mst_data_lake\".mt_trade\n",
    "    WHERE\n",
    "        product = 'AAPL'\n",
    "        AND dt = '2022-01-07'\n",
    "    GROUP BY\n",
    "        f\n",
    "    ORDER BY\n",
    "        f\n",
    "\"\"\",\n",
    ")\n",
    "\n",
    "# Iterate over the results, appending the feed and the count to the X and Y arrays.\n",
    "x = []\n",
    "y = []\n",
    "for record in records_iter:\n",
    "    x.append(record[\"f\"])\n",
    "    y.append(record[\"cnt\"])\n"
   ]
  },
  {
   "cell_type": "code",
   "execution_count": null,
   "metadata": {},
   "outputs": [],
   "source": [
    "import matplotlib.pyplot as plt\n",
    "\n",
    "\n",
    "# Set the output size for the figure\n",
    "plt.rcParams[\"figure.figsize\"] = (12, 9)\n",
    "\n",
    "plt.bar(x, y)\n",
    "\n",
    "# Set the titles and axis labels.\n",
    "plt.xlabel(\"Feed\")\n",
    "plt.ylabel(\"Total Trades\")\n",
    "\n",
    "plt.title(\"AAPL Trades By Feed\")\n"
   ]
  }
 ],
 "metadata": {
  "kernelspec": {
   "display_name": "Python 3.9.13 64-bit",
   "language": "python",
   "name": "python3"
  },
  "language_info": {
   "codemirror_mode": {
    "name": "ipython",
    "version": 3
   },
   "file_extension": ".py",
   "mimetype": "text/x-python",
   "name": "python",
   "nbconvert_exporter": "python",
   "pygments_lexer": "ipython3",
   "version": "3.9.13"
  },
  "orig_nbformat": 4,
  "vscode": {
   "interpreter": {
    "hash": "aee8b7b246df8f9039afb4144a1f6fd8d2ca17a180786b69acc140d282b71a49"
   }
  }
 },
 "nbformat": 4,
 "nbformat_minor": 2
}
