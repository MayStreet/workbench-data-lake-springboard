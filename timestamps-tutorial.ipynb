{
 "cells": [
  {
   "attachments": {},
   "cell_type": "markdown",
   "metadata": {},
   "source": [
    "# Working with timestamps\n",
    "\n",
    "This notebook explains how to effectively work with timestamps in the Data Lake.\n",
    "\n",
    "## Data types\n",
    "\n",
    "First, we start with a recap of the data types involved. \n",
    "\n",
    "On the Data Lake side, the following types exist in Athena:\n",
    "\n",
    "- `TIMESTAMP`: a point in time. It does not include a timezone. Note that it can have different precisions. `TIMESTAMP(3)` has millisecond precision, while `TIMESTAMP(9)` has nanoseconds precision. Keep in mind that most built-in timestamp manipulation functions don't support nanosecond (or microsecond) precision, reducing the usefulness of `TIMESTAMP(9)`.\n",
    "- `TIMESTAMP WITH TIME ZONE`: same as `TIMESTAMP`, but also includes timezone information.\n",
    "- `BIGINT`: a 64-bits integer.\n",
    "\n",
    "The following integer representations of time will also be referenced:\n",
    "\n",
    "- `unix timestamp`: the number of _seconds_ since 1st Jan 1970. It is a floating point value. Note that a unix timestamp cannot hold nanosecond precision, so converting to a unix timestamp from a `TIMESTAMP(9)` will always lead to loss of precision.\n",
    "- `data lake timestamp`: the integer number of _nanoseconds_ since 1st Jan 1970.\n",
    "\n",
    "Timestamps in the Data Lake are represented as the integer number of nanoseconds since 1st Jan 1970, and stored using the `BIGINT` data type.\n",
    "\n",
    "## Data type serialization\n",
    "\n",
    "In both the user interface (SQL Tools) and Python/R, the data types above will be returned in the following formats:\n",
    "\n",
    "- `TIMESTAMP`: an integer containing the number of _milliseconds_ since 1st Jan 1970. You can multiply this value by 1e6 to get a value comparable to Data Lake timestamps stored in a `BIGINT`. If you need more than millisecond precision (e.g. you're selecting a `TIMESTAMP(9)`) you can cast the values to a `VARCHAR` as shown later in this notebook.\n",
    "- `TIMESTAMP WITH TIME ZONE`: a string representation, with the following format: `YYYY-MM-dd HH:mm:ss.sssssssss Timezone`.\n",
    "- `BIGINT`: a 64-bits integer.\n",
    "\n",
    "## Converting between formats\n",
    "\n",
    "You can see a list of available date/time functions here: https://prestodb.io/docs/current/functions/datetime.html.\n",
    "For timezone information, see https://docs.aws.amazon.com/athena/latest/ug/athena-supported-time-zones.html.\n",
    "\n",
    "In particular, the following table shows how to convert from the format in the row header to the format in the column header:\n",
    "\n",
    "|CONVERSION|TIMESTAMP(9)|TIMESTAMP(3)|TIMESTAMP(3) WITH TIME ZONE|unix timestamp|data lake timestamp|\n",
    "|-|-|-|-|-|-|\n",
    "|TIMESTAMP(9)|`x`|`CAST(x AS TIMESTAMP(3))`|`AT_TIMEZONE(CAST(x AS TIMESTAMP(3)), 'US/Eastern')`|`TO_UNIXTIME(x)`|`CAST(FLOOR(TO_UNIXTIME(x)) AS BIGINT) * 1000000000 + CAST(SUBSTRING(CAST(x AS VARCHAR), 21) AS BIGINT)`|\n",
    "|TIMESTAMP(3)|`CAST(x AS TIMESTAMP(9))` | `x`| `AT_TIMEZONE(x, 'US/Eastern')` | `TO_UNIXTIME(x)` | `CAST(TO_UNIXTIME(x) * 1000 AS BIGINT) * 1000000` |\n",
    "|TIMESTAMP(3) WITH TIME ZONE|`CAST(FROM_UNIXTIME(TO_UNIXTIME(x)) AS TIMESTAMP(9))`|`FROM_UNIXTIME(TO_UNIXTIME(x))`| `x` | `TO_UNIXTIME(x)` | `CAST(TO_UNIXTIME(x) * 1000 AS BIGINT) * 1000000` |\n",
    "|unix timestamp|`FROM_UNIXTIME_NANOS(x * 1e9)`| `FROM_UNIXTIME(x)` | `AT_TIMEZONE(FROM_UNIXTIME(x), 'US/Eastern')` | `x` | `CAST(x * 1000 AS BIGINT) * 1000000` |\n",
    "|data lake timestamp|`FROM_UNIXTIME_NANOS(x)`| `FROM_UNIXTIME(ROUND(x / 1e9, 3))` | `AT_TIMEZONE(FROM_UNIXTIME(ROUND(x / 1e9, 3)), 'US/Eastern')` | `ROUND(x / 1e9, 3)` | `x`|\n",
    "\n",
    "On top of these tables, the following operations will be useful:\n",
    "\n",
    "- `CAST(x AS VARCHAR)`: if x is a `TIMESTAMP`, returns it as a readable string instead of as an integer.\n",
    "- `x % 1000000000`: if x is a `data lake timestamp`, extracts the fractional seconds (with nanoseconds precision) part of the timestamp as an integer.\n",
    "- `x + n`: if x is a `data lake timestamp` with 0 milliseconds/microseconds/nanoseconds, adds the n fractional seconds (with nanosecond precision) part to it.\n"
   ]
  },
  {
   "attachments": {},
   "cell_type": "markdown",
   "metadata": {},
   "source": [
    "## Examples\n",
    "\n",
    "The following Python/SQL examples show some common uses of the functions above."
   ]
  },
  {
   "cell_type": "code",
   "execution_count": null,
   "metadata": {},
   "outputs": [],
   "source": [
    "import datetime\n",
    "\n",
    "import maystreet_data as md\n",
    "import pandas as pd\n",
    "import numpy as np"
   ]
  },
  {
   "attachments": {},
   "cell_type": "markdown",
   "metadata": {},
   "source": [
    "Return human-readable data lake timestamps (UTC):"
   ]
  },
  {
   "cell_type": "code",
   "execution_count": null,
   "metadata": {},
   "outputs": [],
   "source": [
    "query = \"\"\"\n",
    "SELECT\n",
    "    CAST(FROM_UNIXTIME_NANOS(exchangetimestamp) AS VARCHAR) AS exchangetimestamp\n",
    "FROM \n",
    "    p_mst_data_lake.mt_trade\n",
    "WHERE \n",
    "    product = 'AAPL'\n",
    "    AND f = 'xdp_nyse_integrated'\n",
    "    AND dt = '2022-03-14'\n",
    "LIMIT 1\n",
    "\"\"\"\n",
    "\n",
    "list(md.query(md.DataSource.DATA_LAKE, query))"
   ]
  },
  {
   "attachments": {},
   "cell_type": "markdown",
   "metadata": {},
   "source": [
    "Return times in a selected timezone:"
   ]
  },
  {
   "cell_type": "code",
   "execution_count": null,
   "metadata": {},
   "outputs": [],
   "source": [
    "query = \"\"\"\n",
    "SELECT\n",
    "    AT_TIMEZONE(FROM_UNIXTIME_NANOS(exchangetimestamp), 'US/Eastern') AS exchangetimestamp\n",
    "FROM \n",
    "    p_mst_data_lake.mt_trade\n",
    "WHERE \n",
    "    product = 'AAPL'\n",
    "    AND f = 'xdp_nyse_integrated'\n",
    "    AND dt = '2022-03-14'\n",
    "LIMIT 1\n",
    "\"\"\"\n",
    "\n",
    "list(md.query(md.DataSource.DATA_LAKE, query))"
   ]
  },
  {
   "attachments": {},
   "cell_type": "markdown",
   "metadata": {},
   "source": [
    "Use the `datetime64` numpy type to hold data lake timestamps:"
   ]
  },
  {
   "cell_type": "code",
   "execution_count": null,
   "metadata": {},
   "outputs": [],
   "source": [
    "query = \"\"\"\n",
    "SELECT\n",
    "    exchangetimestamp\n",
    "FROM\n",
    "    p_mst_data_lake.mt_trade\n",
    "WHERE \n",
    "    product = 'AAPL'\n",
    "    AND f = 'xdp_nyse_integrated'\n",
    "    AND dt = '2022-03-14'\n",
    "LIMIT 1\n",
    "\"\"\"\n",
    "\n",
    "df = pd.DataFrame(md.query(md.DataSource.DATA_LAKE, query))\n",
    "\n",
    "# NOTE: this is in the UTC timezone\n",
    "pd.to_datetime(df['exchangetimestamp'])"
   ]
  },
  {
   "attachments": {},
   "cell_type": "markdown",
   "metadata": {},
   "source": [
    "Filter against data lake timestamps using user-friendly date formats, returning UTC times and price:"
   ]
  },
  {
   "cell_type": "code",
   "execution_count": null,
   "metadata": {},
   "outputs": [],
   "source": [
    "query = \"\"\"\n",
    "SELECT\n",
    "    CAST(FROM_UNIXTIME_NANOS(exchangetimestamp) AS VARCHAR) AS exchangetimestamp,\n",
    "    price\n",
    "FROM \n",
    "    p_mst_data_lake.mt_trade\n",
    "WHERE \n",
    "    product = 'AAPL'\n",
    "    AND f = 'xdp_nyse_integrated'\n",
    "    AND dt = '2022-03-14'\n",
    "    AND exchangetimestamp BETWEEN CAST(TO_UNIXTIME(TIMESTAMP '2022-03-14 15:01:03 US/Eastern') * 1000 AS BIGINT) * 1000000 + 000000001\n",
    "                              AND CAST(TO_UNIXTIME(TIMESTAMP '2022-03-14 15:02:03 US/Eastern') * 1000 AS BIGINT) * 1000000 + 999999999\n",
    "\"\"\"\n",
    "\n",
    "pd.DataFrame(md.query(md.DataSource.DATA_LAKE, query))"
   ]
  },
  {
   "attachments": {},
   "cell_type": "markdown",
   "metadata": {},
   "source": [
    "Return human-readable data lake timestamps (UTC), splitting out the nanoseconds in a separate column:"
   ]
  },
  {
   "cell_type": "code",
   "execution_count": null,
   "metadata": {},
   "outputs": [],
   "source": [
    "query = \"\"\"\n",
    "SELECT\n",
    "    CAST(FROM_UNIXTIME(FLOOR(exchangetimestamp / 1e9)) AS VARCHAR) AS date_time_part,\n",
    "    exchangetimestamp % 1000000000 AS seconds_fractional_part\n",
    "FROM \n",
    "    p_mst_data_lake.mt_trade\n",
    "WHERE \n",
    "    product = 'AAPL'\n",
    "    AND f = 'xdp_nyse_integrated'\n",
    "    AND dt = '2022-03-14'\n",
    "LIMIT 1\n",
    "\"\"\"\n",
    "\n",
    "list(md.query(md.DataSource.DATA_LAKE, query))"
   ]
  },
  {
   "attachments": {},
   "cell_type": "markdown",
   "metadata": {},
   "source": [
    "Extract a Python datetime (without fractional seconds) and nanoseconds from a `data lake timestamp`:"
   ]
  },
  {
   "cell_type": "code",
   "execution_count": null,
   "metadata": {},
   "outputs": [],
   "source": [
    "query = \"\"\"\n",
    "SELECT\n",
    "    exchangetimestamp\n",
    "FROM \n",
    "    p_mst_data_lake.mt_trade\n",
    "WHERE \n",
    "    product = 'AAPL'\n",
    "    AND f = 'xdp_nyse_integrated'\n",
    "    AND dt = '2022-03-14'\n",
    "LIMIT 1\n",
    "\"\"\"\n",
    "\n",
    "rows = list(md.query(md.DataSource.DATA_LAKE, query))\n",
    "\n",
    "exchange_timestamp = rows[0]['exchangetimestamp']\n",
    "\n",
    "as_datetime = datetime.datetime.utcfromtimestamp(exchange_timestamp // 1_000_000_000)\n",
    "fractional_seconds = exchange_timestamp % 1_000_000_000\n",
    "\n",
    "exchange_timestamp, as_datetime, fractional_seconds"
   ]
  },
  {
   "cell_type": "markdown",
   "metadata": {},
   "source": [
    "Convert a Python datetime and fractional seconds to a `data lake timestamp`:"
   ]
  },
  {
   "cell_type": "code",
   "execution_count": null,
   "metadata": {},
   "outputs": [],
   "source": [
    "# as_datetime = datetime.datetime(2022, 3, 14, 19, 59, 46)\n",
    "# fractional_seconds = 575338496\n",
    "\n",
    "as_datetime = datetime.datetime(2022, 3, 14, 19, 2, 3)\n",
    "fractional_seconds = 999999999\n",
    "\n",
    "\n",
    "data_lake_timestamp = int(as_datetime.timestamp()) * 1_000_000_000 + fractional_seconds\n",
    "\n",
    "data_lake_timestamp, as_datetime, fractional_seconds"
   ]
  },
  {
   "attachments": {},
   "cell_type": "markdown",
   "metadata": {},
   "source": [
    "# Common errors"
   ]
  },
  {
   "attachments": {},
   "cell_type": "markdown",
   "metadata": {},
   "source": [
    "Why do I get the `SERIALIZATION_ERROR: Could not serialize column '...' of type 'timestamp(3)' at position ...` error?\n",
    "\n",
    "This happens when returning the result of applying `FROM_UNIXTIME` to a unix timestamp not rounded to milliseconds precision."
   ]
  },
  {
   "cell_type": "code",
   "execution_count": null,
   "metadata": {},
   "outputs": [],
   "source": [
    "import maystreet_data as md\n",
    "\n",
    "# WRONG: firstreceipttimestamp is not rounded\n",
    "query = \"\"\"\n",
    "SELECT\n",
    "    FROM_UNIXTIME(firstreceipttimestamp / 1e9)\n",
    "FROM \n",
    "    p_mst_data_lake.mt_aggregated_price_update\n",
    "WHERE \n",
    "    product = 'AAPL'\n",
    "    AND f = 'xdp_nyse_integrated'\n",
    "    AND dt = '2022-03-14'\n",
    "LIMIT 1\n",
    "\"\"\"\n",
    "# print(list(md.query(md.DataSource.DATA_LAKE, query)))\n",
    "\n",
    "# CORRECT: firstreceipttimestamp is rounded to milliseconds precision\n",
    "query = \"\"\"\n",
    "SELECT\n",
    "    FROM_UNIXTIME(ROUND(firstreceipttimestamp / 1e9, 3))\n",
    "FROM \n",
    "    p_mst_data_lake.mt_aggregated_price_update\n",
    "WHERE \n",
    "    product = 'AAPL'\n",
    "    AND f = 'xdp_nyse_integrated'\n",
    "    AND dt = '2022-03-14'\n",
    "LIMIT 1\n",
    "\"\"\"\n",
    "print(list(md.query(md.DataSource.DATA_LAKE, query)))\n"
   ]
  }
 ],
 "metadata": {
  "kernelspec": {
   "display_name": ".virtualenv",
   "language": "python",
   "name": "python3"
  },
  "language_info": {
   "codemirror_mode": {
    "name": "ipython",
    "version": 3
   },
   "file_extension": ".py",
   "mimetype": "text/x-python",
   "name": "python",
   "nbconvert_exporter": "python",
   "pygments_lexer": "ipython3",
   "version": "3.11.6"
  },
  "orig_nbformat": 4
 },
 "nbformat": 4,
 "nbformat_minor": 2
}
