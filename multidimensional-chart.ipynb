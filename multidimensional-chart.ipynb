{
 "cells": [
  {
   "cell_type": "markdown",
   "metadata": {},
   "source": [
    "This sample notebook shows how you can plot three-dimensional data extracted from the Data Lake.\n",
    "\n",
    "It plots the price, quantity and time of AAPL trades on a given day."
   ]
  },
  {
   "cell_type": "code",
   "execution_count": null,
   "metadata": {},
   "outputs": [],
   "source": [
    "import datetime\n",
    "\n",
    "import pandas as pd\n",
    "import matplotlib.pyplot as plt\n",
    "import maystreet_data as md\n",
    "import numpy as np\n",
    "\n",
    "year, month, day = '2022', '01', '19'"
   ]
  },
  {
   "cell_type": "code",
   "execution_count": null,
   "metadata": {},
   "outputs": [],
   "source": [
    "def fetch_price_quantity():\n",
    "    \"\"\"\n",
    "    Query the Data Lake for min/max prices grouped by hour of the day.\n",
    "\n",
    "    Returns a Pandas dataframe with timestamp (as a Python datetime), min_price and max_price.\n",
    "    \"\"\"\n",
    "\n",
    "    query = f\"\"\"\n",
    "    SELECT \n",
    "        ExchangeTimestamp AS \"timestamp\",\n",
    "        price,\n",
    "        quantity\n",
    "    FROM \n",
    "        \"prod_lake\".\"p_mst_data_lake\".mt_trade\n",
    "    WHERE \n",
    "        y = '{year}'\n",
    "        AND m = '{month}'\n",
    "        AND d = '{day}'\n",
    "        AND product = 'AAPL'\n",
    "    ORDER BY 1\n",
    "    \"\"\"\n",
    "\n",
    "    return pd.DataFrame(md.query(md.DataSource.DATA_LAKE, query))\n",
    "\n",
    "data = fetch_price_quantity()\n",
    "data"
   ]
  },
  {
   "cell_type": "code",
   "execution_count": null,
   "metadata": {},
   "outputs": [],
   "source": [
    "def time_formatter(x, pos=None):\n",
    "    as_datetime = datetime.datetime.fromtimestamp(x / 1000000000)\n",
    "    return as_datetime.strftime('%H:%M:%S')\n",
    "\n",
    "plt.rcParams['figure.figsize'] = [10, 10]\n",
    "\n",
    "fig = plt.figure()\n",
    "fig.patch.set_facecolor((1, 1, 1))\n",
    "\n",
    "ax = plt.axes(projection='3d')\n",
    "\n",
    "ax.set_title('AAPL time/price/quantity, 2022/01/19')\n",
    "ax.set_xlabel('Time')\n",
    "ax.set_ylabel('Quantity')\n",
    "ax.set_zlabel('Price')\n",
    "\n",
    "ax.xaxis.set_major_formatter(time_formatter)\n",
    "\n",
    "ax.scatter3D(data['timestamp'], data['quantity'], data['price'])\n",
    "\n",
    "plt.show()"
   ]
  }
 ],
 "metadata": {
  "interpreter": {
   "hash": "0ea2b8895e81fdf91d242a88ba5aeb28630840827d8cbcc101eed9e19ad7d7de"
  },
  "kernelspec": {
   "display_name": "Python 3.8.10 64-bit ('.virtualenv': venv)",
   "language": "python",
   "name": "python3"
  },
  "language_info": {
   "codemirror_mode": {
    "name": "ipython",
    "version": 3
   },
   "file_extension": ".py",
   "mimetype": "text/x-python",
   "name": "python",
   "nbconvert_exporter": "python",
   "pygments_lexer": "ipython3",
   "version": "3.8.10"
  },
  "orig_nbformat": 4
 },
 "nbformat": 4,
 "nbformat_minor": 2
}
