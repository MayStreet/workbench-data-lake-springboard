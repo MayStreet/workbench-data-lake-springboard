{
 "cells": [
  {
   "cell_type": "code",
   "execution_count": null,
   "metadata": {},
   "outputs": [],
   "source": [
    "# Import the MayStreet Data Python library - this is already provided for you inside Workbench.\n",
    "import maystreet_data\n",
    "# Import the well known Python Pandas library (https://pandas.pydata.org)\n",
    "import pandas as pd\n",
    "\n",
    "# Run an example query against the MayStreet Data Lake. This will return 100 \"add\" orders regardless of feed or product.\n",
    "records_iter = maystreet_data.query(\n",
    "    maystreet_data.DataSource.DATA_LAKE,\n",
    "    f\"\"\"\n",
    "    SELECT\n",
    "        dt,\n",
    "        price,\n",
    "        product\n",
    "    FROM \n",
    "        \"prod_lake.p_mst_data_lake\".mt_add_order\n",
    "    WHERE\n",
    "        dt = '2022-01-13'\n",
    "    LIMIT 100\n",
    "\"\"\",\n",
    ")\n",
    "\n",
    "# Create a Pandas Data Frame from the iterator; an iterator will return one row at a time but we'd like\n",
    "# to see them all.\n",
    "data = pd.DataFrame(records_iter)\n",
    "\n",
    "# Display the data in the Jupyter output cell.\n",
    "data\n"
   ]
  }
 ],
 "metadata": {
  "kernelspec": {
   "display_name": "Python 3.9.13 64-bit",
   "language": "python",
   "name": "python3"
  },
  "language_info": {
   "codemirror_mode": {
    "name": "ipython",
    "version": 3
   },
   "file_extension": ".py",
   "mimetype": "text/x-python",
   "name": "python",
   "nbconvert_exporter": "python",
   "pygments_lexer": "ipython3",
   "version": "3.9.13",
   "com.lseg.llg.wb.description": "Provides a simple example of reading data from the Data Lake using Python.",
   "com.lseg.llg.wb.name": "Data Lake Introduction",
   "com.lseg.llg.wb.tags": [
    "python",
    "datalake",
    "data-lake"
   ],
  },
  "orig_nbformat": 4,
  "vscode": {
   "interpreter": {
    "hash": "aee8b7b246df8f9039afb4144a1f6fd8d2ca17a180786b69acc140d282b71a49"
   }
  }
 },
 "nbformat": 4,
 "nbformat_minor": 2
}
